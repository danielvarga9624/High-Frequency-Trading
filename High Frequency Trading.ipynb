{
 "cells": [
  {
   "cell_type": "code",
   "execution_count": 1,
   "id": "b3ce0b3f-1ef9-439f-9d1a-bd3e015d37ee",
   "metadata": {},
   "outputs": [],
   "source": [
    "import numpy as np\n",
    "import pandas as pd\n",
    "import yfinance as yf\n",
    "import matplotlib.pyplot as plt"
   ]
  },
  {
   "cell_type": "code",
   "execution_count": 2,
   "id": "6ae9854e-d701-4d24-927d-16994b932733",
   "metadata": {},
   "outputs": [
    {
     "name": "stderr",
     "output_type": "stream",
     "text": [
      "[*********************100%***********************]  1 of 1 completed\n",
      "[*********************100%***********************]  1 of 1 completed\n"
     ]
    }
   ],
   "source": [
    "df_ma = yf.download('MA', start ='2025-01-23', end = '2025-01-24', interval=\"1m\")\n",
    "df_v = yf.download('V', start ='2025-01-23', end = '2025-01-24', interval=\"1m\")"
   ]
  },
  {
   "cell_type": "code",
   "execution_count": 5,
   "id": "adc48e08-e809-415c-8816-b11fd557a844",
   "metadata": {},
   "outputs": [],
   "source": [
    "df_ma.columns =['Close', 'High', 'Low', 'Open', 'Volume']\n",
    "df_v.columns =['Close', 'High', 'Low', 'Open', 'Volume']"
   ]
  },
  {
   "cell_type": "code",
   "execution_count": 7,
   "id": "799d3ae9-1b28-43d1-bd76-d827521a7ab1",
   "metadata": {},
   "outputs": [
    {
     "data": {
      "text/html": [
       "<div>\n",
       "<style scoped>\n",
       "    .dataframe tbody tr th:only-of-type {\n",
       "        vertical-align: middle;\n",
       "    }\n",
       "\n",
       "    .dataframe tbody tr th {\n",
       "        vertical-align: top;\n",
       "    }\n",
       "\n",
       "    .dataframe thead th {\n",
       "        text-align: right;\n",
       "    }\n",
       "</style>\n",
       "<table border=\"1\" class=\"dataframe\">\n",
       "  <thead>\n",
       "    <tr style=\"text-align: right;\">\n",
       "      <th></th>\n",
       "      <th>Close</th>\n",
       "      <th>High</th>\n",
       "      <th>Low</th>\n",
       "      <th>Open</th>\n",
       "      <th>Volume</th>\n",
       "    </tr>\n",
       "    <tr>\n",
       "      <th>Datetime</th>\n",
       "      <th></th>\n",
       "      <th></th>\n",
       "      <th></th>\n",
       "      <th></th>\n",
       "      <th></th>\n",
       "    </tr>\n",
       "  </thead>\n",
       "  <tbody>\n",
       "    <tr>\n",
       "      <th>2025-01-23 14:30:00+00:00</th>\n",
       "      <td>529.289978</td>\n",
       "      <td>529.547485</td>\n",
       "      <td>528.679993</td>\n",
       "      <td>529.049988</td>\n",
       "      <td>35132</td>\n",
       "    </tr>\n",
       "    <tr>\n",
       "      <th>2025-01-23 14:31:00+00:00</th>\n",
       "      <td>530.544983</td>\n",
       "      <td>530.599976</td>\n",
       "      <td>529.289978</td>\n",
       "      <td>529.289978</td>\n",
       "      <td>6671</td>\n",
       "    </tr>\n",
       "    <tr>\n",
       "      <th>2025-01-23 14:32:00+00:00</th>\n",
       "      <td>530.809998</td>\n",
       "      <td>530.809998</td>\n",
       "      <td>530.085022</td>\n",
       "      <td>530.390015</td>\n",
       "      <td>11135</td>\n",
       "    </tr>\n",
       "    <tr>\n",
       "      <th>2025-01-23 14:33:00+00:00</th>\n",
       "      <td>531.202515</td>\n",
       "      <td>531.202515</td>\n",
       "      <td>530.455017</td>\n",
       "      <td>530.799988</td>\n",
       "      <td>11137</td>\n",
       "    </tr>\n",
       "    <tr>\n",
       "      <th>2025-01-23 14:34:00+00:00</th>\n",
       "      <td>531.390198</td>\n",
       "      <td>532.269897</td>\n",
       "      <td>530.979980</td>\n",
       "      <td>531.200012</td>\n",
       "      <td>12381</td>\n",
       "    </tr>\n",
       "    <tr>\n",
       "      <th>...</th>\n",
       "      <td>...</td>\n",
       "      <td>...</td>\n",
       "      <td>...</td>\n",
       "      <td>...</td>\n",
       "      <td>...</td>\n",
       "    </tr>\n",
       "    <tr>\n",
       "      <th>2025-01-23 20:55:00+00:00</th>\n",
       "      <td>533.625000</td>\n",
       "      <td>533.760010</td>\n",
       "      <td>533.190002</td>\n",
       "      <td>533.195007</td>\n",
       "      <td>22861</td>\n",
       "    </tr>\n",
       "    <tr>\n",
       "      <th>2025-01-23 20:56:00+00:00</th>\n",
       "      <td>533.900024</td>\n",
       "      <td>533.900024</td>\n",
       "      <td>533.625000</td>\n",
       "      <td>533.760010</td>\n",
       "      <td>15616</td>\n",
       "    </tr>\n",
       "    <tr>\n",
       "      <th>2025-01-23 20:57:00+00:00</th>\n",
       "      <td>533.849976</td>\n",
       "      <td>534.059998</td>\n",
       "      <td>533.789978</td>\n",
       "      <td>533.885010</td>\n",
       "      <td>24900</td>\n",
       "    </tr>\n",
       "    <tr>\n",
       "      <th>2025-01-23 20:58:00+00:00</th>\n",
       "      <td>533.755005</td>\n",
       "      <td>534.039978</td>\n",
       "      <td>533.710022</td>\n",
       "      <td>533.844971</td>\n",
       "      <td>31154</td>\n",
       "    </tr>\n",
       "    <tr>\n",
       "      <th>2025-01-23 20:59:00+00:00</th>\n",
       "      <td>534.210022</td>\n",
       "      <td>534.349976</td>\n",
       "      <td>533.760010</td>\n",
       "      <td>533.830017</td>\n",
       "      <td>44050</td>\n",
       "    </tr>\n",
       "  </tbody>\n",
       "</table>\n",
       "<p>384 rows × 5 columns</p>\n",
       "</div>"
      ],
      "text/plain": [
       "                                Close        High         Low        Open  \\\n",
       "Datetime                                                                    \n",
       "2025-01-23 14:30:00+00:00  529.289978  529.547485  528.679993  529.049988   \n",
       "2025-01-23 14:31:00+00:00  530.544983  530.599976  529.289978  529.289978   \n",
       "2025-01-23 14:32:00+00:00  530.809998  530.809998  530.085022  530.390015   \n",
       "2025-01-23 14:33:00+00:00  531.202515  531.202515  530.455017  530.799988   \n",
       "2025-01-23 14:34:00+00:00  531.390198  532.269897  530.979980  531.200012   \n",
       "...                               ...         ...         ...         ...   \n",
       "2025-01-23 20:55:00+00:00  533.625000  533.760010  533.190002  533.195007   \n",
       "2025-01-23 20:56:00+00:00  533.900024  533.900024  533.625000  533.760010   \n",
       "2025-01-23 20:57:00+00:00  533.849976  534.059998  533.789978  533.885010   \n",
       "2025-01-23 20:58:00+00:00  533.755005  534.039978  533.710022  533.844971   \n",
       "2025-01-23 20:59:00+00:00  534.210022  534.349976  533.760010  533.830017   \n",
       "\n",
       "                           Volume  \n",
       "Datetime                           \n",
       "2025-01-23 14:30:00+00:00   35132  \n",
       "2025-01-23 14:31:00+00:00    6671  \n",
       "2025-01-23 14:32:00+00:00   11135  \n",
       "2025-01-23 14:33:00+00:00   11137  \n",
       "2025-01-23 14:34:00+00:00   12381  \n",
       "...                           ...  \n",
       "2025-01-23 20:55:00+00:00   22861  \n",
       "2025-01-23 20:56:00+00:00   15616  \n",
       "2025-01-23 20:57:00+00:00   24900  \n",
       "2025-01-23 20:58:00+00:00   31154  \n",
       "2025-01-23 20:59:00+00:00   44050  \n",
       "\n",
       "[384 rows x 5 columns]"
      ]
     },
     "execution_count": 7,
     "metadata": {},
     "output_type": "execute_result"
    }
   ],
   "source": [
    "df_ma"
   ]
  },
  {
   "cell_type": "code",
   "execution_count": 9,
   "id": "14821377-2e1c-4059-b6bd-ce75bbd624c8",
   "metadata": {},
   "outputs": [],
   "source": [
    "combined_df = pd.concat([df_ma[['Open', 'Close']], df_v[['Open', 'Close']]], axis=1, keys=['MA', 'V'])\n",
    "combined_df = combined_df.ffill()\n",
    "combined_df.columns = ['MA_Open', 'MA_Close', 'V_Open', 'V_Close']"
   ]
  },
  {
   "cell_type": "code",
   "execution_count": 11,
   "id": "971075a3-37a3-4019-993a-97e45a240710",
   "metadata": {},
   "outputs": [],
   "source": [
    "combined_df['MA_Return'] = combined_df.MA_Close.pct_change()\n",
    "combined_df['V_Return'] = combined_df.V_Close.pct_change()"
   ]
  },
  {
   "cell_type": "code",
   "execution_count": 13,
   "id": "7e7d0341-38f7-4975-b83b-4a29d1808127",
   "metadata": {},
   "outputs": [
    {
     "data": {
      "text/html": [
       "<div>\n",
       "<style scoped>\n",
       "    .dataframe tbody tr th:only-of-type {\n",
       "        vertical-align: middle;\n",
       "    }\n",
       "\n",
       "    .dataframe tbody tr th {\n",
       "        vertical-align: top;\n",
       "    }\n",
       "\n",
       "    .dataframe thead th {\n",
       "        text-align: right;\n",
       "    }\n",
       "</style>\n",
       "<table border=\"1\" class=\"dataframe\">\n",
       "  <thead>\n",
       "    <tr style=\"text-align: right;\">\n",
       "      <th></th>\n",
       "      <th>MA_Open</th>\n",
       "      <th>MA_Close</th>\n",
       "      <th>V_Open</th>\n",
       "      <th>V_Close</th>\n",
       "      <th>MA_Return</th>\n",
       "      <th>V_Return</th>\n",
       "    </tr>\n",
       "    <tr>\n",
       "      <th>Datetime</th>\n",
       "      <th></th>\n",
       "      <th></th>\n",
       "      <th></th>\n",
       "      <th></th>\n",
       "      <th></th>\n",
       "      <th></th>\n",
       "    </tr>\n",
       "  </thead>\n",
       "  <tbody>\n",
       "    <tr>\n",
       "      <th>2025-01-23 14:30:00+00:00</th>\n",
       "      <td>529.049988</td>\n",
       "      <td>529.289978</td>\n",
       "      <td>323.760010</td>\n",
       "      <td>323.769989</td>\n",
       "      <td>NaN</td>\n",
       "      <td>NaN</td>\n",
       "    </tr>\n",
       "    <tr>\n",
       "      <th>2025-01-23 14:31:00+00:00</th>\n",
       "      <td>529.289978</td>\n",
       "      <td>530.544983</td>\n",
       "      <td>323.785004</td>\n",
       "      <td>323.859985</td>\n",
       "      <td>0.002371</td>\n",
       "      <td>0.000278</td>\n",
       "    </tr>\n",
       "    <tr>\n",
       "      <th>2025-01-23 14:32:00+00:00</th>\n",
       "      <td>530.390015</td>\n",
       "      <td>530.809998</td>\n",
       "      <td>323.950012</td>\n",
       "      <td>324.424988</td>\n",
       "      <td>0.000500</td>\n",
       "      <td>0.001745</td>\n",
       "    </tr>\n",
       "    <tr>\n",
       "      <th>2025-01-23 14:33:00+00:00</th>\n",
       "      <td>530.799988</td>\n",
       "      <td>531.202515</td>\n",
       "      <td>324.424988</td>\n",
       "      <td>324.630005</td>\n",
       "      <td>0.000739</td>\n",
       "      <td>0.000632</td>\n",
       "    </tr>\n",
       "    <tr>\n",
       "      <th>2025-01-23 14:34:00+00:00</th>\n",
       "      <td>531.200012</td>\n",
       "      <td>531.390198</td>\n",
       "      <td>324.690002</td>\n",
       "      <td>324.975006</td>\n",
       "      <td>0.000353</td>\n",
       "      <td>0.001063</td>\n",
       "    </tr>\n",
       "    <tr>\n",
       "      <th>...</th>\n",
       "      <td>...</td>\n",
       "      <td>...</td>\n",
       "      <td>...</td>\n",
       "      <td>...</td>\n",
       "      <td>...</td>\n",
       "      <td>...</td>\n",
       "    </tr>\n",
       "    <tr>\n",
       "      <th>2025-01-23 20:55:00+00:00</th>\n",
       "      <td>533.195007</td>\n",
       "      <td>533.625000</td>\n",
       "      <td>327.489990</td>\n",
       "      <td>327.795013</td>\n",
       "      <td>0.000639</td>\n",
       "      <td>0.000931</td>\n",
       "    </tr>\n",
       "    <tr>\n",
       "      <th>2025-01-23 20:56:00+00:00</th>\n",
       "      <td>533.760010</td>\n",
       "      <td>533.900024</td>\n",
       "      <td>327.799988</td>\n",
       "      <td>328.130005</td>\n",
       "      <td>0.000515</td>\n",
       "      <td>0.001022</td>\n",
       "    </tr>\n",
       "    <tr>\n",
       "      <th>2025-01-23 20:57:00+00:00</th>\n",
       "      <td>533.885010</td>\n",
       "      <td>533.849976</td>\n",
       "      <td>328.125000</td>\n",
       "      <td>328.100006</td>\n",
       "      <td>-0.000094</td>\n",
       "      <td>-0.000091</td>\n",
       "    </tr>\n",
       "    <tr>\n",
       "      <th>2025-01-23 20:58:00+00:00</th>\n",
       "      <td>533.844971</td>\n",
       "      <td>533.755005</td>\n",
       "      <td>328.049988</td>\n",
       "      <td>328.130005</td>\n",
       "      <td>-0.000178</td>\n",
       "      <td>0.000091</td>\n",
       "    </tr>\n",
       "    <tr>\n",
       "      <th>2025-01-23 20:59:00+00:00</th>\n",
       "      <td>533.830017</td>\n",
       "      <td>534.210022</td>\n",
       "      <td>328.125000</td>\n",
       "      <td>328.100006</td>\n",
       "      <td>0.000852</td>\n",
       "      <td>-0.000091</td>\n",
       "    </tr>\n",
       "  </tbody>\n",
       "</table>\n",
       "<p>389 rows × 6 columns</p>\n",
       "</div>"
      ],
      "text/plain": [
       "                              MA_Open    MA_Close      V_Open     V_Close  \\\n",
       "Datetime                                                                    \n",
       "2025-01-23 14:30:00+00:00  529.049988  529.289978  323.760010  323.769989   \n",
       "2025-01-23 14:31:00+00:00  529.289978  530.544983  323.785004  323.859985   \n",
       "2025-01-23 14:32:00+00:00  530.390015  530.809998  323.950012  324.424988   \n",
       "2025-01-23 14:33:00+00:00  530.799988  531.202515  324.424988  324.630005   \n",
       "2025-01-23 14:34:00+00:00  531.200012  531.390198  324.690002  324.975006   \n",
       "...                               ...         ...         ...         ...   \n",
       "2025-01-23 20:55:00+00:00  533.195007  533.625000  327.489990  327.795013   \n",
       "2025-01-23 20:56:00+00:00  533.760010  533.900024  327.799988  328.130005   \n",
       "2025-01-23 20:57:00+00:00  533.885010  533.849976  328.125000  328.100006   \n",
       "2025-01-23 20:58:00+00:00  533.844971  533.755005  328.049988  328.130005   \n",
       "2025-01-23 20:59:00+00:00  533.830017  534.210022  328.125000  328.100006   \n",
       "\n",
       "                           MA_Return  V_Return  \n",
       "Datetime                                        \n",
       "2025-01-23 14:30:00+00:00        NaN       NaN  \n",
       "2025-01-23 14:31:00+00:00   0.002371  0.000278  \n",
       "2025-01-23 14:32:00+00:00   0.000500  0.001745  \n",
       "2025-01-23 14:33:00+00:00   0.000739  0.000632  \n",
       "2025-01-23 14:34:00+00:00   0.000353  0.001063  \n",
       "...                              ...       ...  \n",
       "2025-01-23 20:55:00+00:00   0.000639  0.000931  \n",
       "2025-01-23 20:56:00+00:00   0.000515  0.001022  \n",
       "2025-01-23 20:57:00+00:00  -0.000094 -0.000091  \n",
       "2025-01-23 20:58:00+00:00  -0.000178  0.000091  \n",
       "2025-01-23 20:59:00+00:00   0.000852 -0.000091  \n",
       "\n",
       "[389 rows x 6 columns]"
      ]
     },
     "execution_count": 13,
     "metadata": {},
     "output_type": "execute_result"
    }
   ],
   "source": [
    "combined_df"
   ]
  },
  {
   "cell_type": "code",
   "execution_count": 15,
   "id": "93169550-e7a8-4652-8318-aff7e5d71ff2",
   "metadata": {},
   "outputs": [
    {
     "data": {
      "text/plain": [
       "<Axes: xlabel='Datetime'>"
      ]
     },
     "execution_count": 15,
     "metadata": {},
     "output_type": "execute_result"
    },
    {
     "data": {
      "image/png": "[encoded data removed]",
      "text/plain": [
       "<Figure size 640x480 with 1 Axes>"
      ]
     },
     "metadata": {},
     "output_type": "display_data"
    }
   ],
   "source": [
    "combined_df[['MA_Close', 'V_Close']].plot()"
   ]
  },
  {
   "cell_type": "code",
   "execution_count": 17,
   "id": "f559a0b7-8e4c-485b-944c-53c7b41dddb6",
   "metadata": {},
   "outputs": [
    {
     "data": {
      "text/plain": [
       "Text(0.5, 1.0, 'Spread between MA and V')"
      ]
     },
     "execution_count": 17,
     "metadata": {},
     "output_type": "execute_result"
    },
    {
     "data": {
      "image/png": "[encoded data removed]",
      "text/plain": [
       "<Figure size 800x480 with 1 Axes>"
      ]
     },
     "metadata": {},
     "output_type": "display_data"
    }
   ],
   "source": [
    "plt.figure(figsize=(10, 6), dpi=80)\n",
    "plt.plot(combined_df.MA_Close - combined_df.V_Close, label = 'Spread (MA and V)')\n",
    "plt.legend()\n",
    "plt.title(\"Spread between MA and V\")"
   ]
  },
  {
   "cell_type": "code",
   "execution_count": 19,
   "id": "1d75f802-a953-4de8-b970-17c0a5eab879",
   "metadata": {},
   "outputs": [],
   "source": [
    "from statsmodels.tsa.stattools import coint\n",
    "from statsmodels.tsa.stattools import adfuller"
   ]
  },
  {
   "cell_type": "code",
   "execution_count": 20,
   "id": "828321cd-397c-4e29-8579-aad318b33cb4",
   "metadata": {},
   "outputs": [],
   "source": [
    "p1 = combined_df['MA_Close']\n",
    "p2 = combined_df['V_Close']"
   ]
  },
  {
   "cell_type": "code",
   "execution_count": 21,
   "id": "8cc6917b-682f-47eb-89ba-5043a27bba96",
   "metadata": {},
   "outputs": [],
   "source": [
    "score, p_value, _ = coint(p1,p2)"
   ]
  },
  {
   "cell_type": "code",
   "execution_count": 22,
   "id": "badcb862-c2c6-480c-bd12-afc84b3f1b46",
   "metadata": {},
   "outputs": [
    {
     "data": {
      "text/plain": [
       "0.19863007198735733"
      ]
     },
     "execution_count": 22,
     "metadata": {},
     "output_type": "execute_result"
    }
   ],
   "source": [
    "p_value"
   ]
  },
  {
   "cell_type": "code",
   "execution_count": 25,
   "id": "0d6d58bd-c146-4a9c-90b6-80d1a40708ec",
   "metadata": {},
   "outputs": [],
   "source": [
    "rho = combined_df['MA_Close'].corr(combined_df['V_Close'])"
   ]
  },
  {
   "cell_type": "code",
   "execution_count": 27,
   "id": "02e8f1e3-d0ba-4e02-9714-7ac7a68b748a",
   "metadata": {},
   "outputs": [
    {
     "data": {
      "text/plain": [
       "0.8450185644768653"
      ]
     },
     "execution_count": 27,
     "metadata": {},
     "output_type": "execute_result"
    }
   ],
   "source": [
    "rho"
   ]
  },
  {
   "cell_type": "code",
   "execution_count": 37,
   "id": "42403fac-69ba-4a31-a0c5-057bc6511c49",
   "metadata": {},
   "outputs": [],
   "source": [
    "# Calculateing returns\n",
    "data1 = combined_df.MA_Return\n",
    "data2 = combined_df.V_Return"
   ]
  },
  {
   "cell_type": "code",
   "execution_count": 61,
   "id": "6ab6dd94-e080-4d3b-b9f8-8dac31a2b5c4",
   "metadata": {},
   "outputs": [],
   "source": [
    "combined_df_returns = pd.concat([combined_df[['MA_Return']], combined_df[['V_Return']]], axis=1,).dropna()"
   ]
  },
  {
   "cell_type": "code",
   "execution_count": 63,
   "id": "e163e319-e4d8-4e96-8045-c4527b7cc431",
   "metadata": {},
   "outputs": [
    {
     "data": {
      "text/html": [
       "<div>\n",
       "<style scoped>\n",
       "    .dataframe tbody tr th:only-of-type {\n",
       "        vertical-align: middle;\n",
       "    }\n",
       "\n",
       "    .dataframe tbody tr th {\n",
       "        vertical-align: top;\n",
       "    }\n",
       "\n",
       "    .dataframe thead th {\n",
       "        text-align: right;\n",
       "    }\n",
       "</style>\n",
       "<table border=\"1\" class=\"dataframe\">\n",
       "  <thead>\n",
       "    <tr style=\"text-align: right;\">\n",
       "      <th></th>\n",
       "      <th>MA_Return</th>\n",
       "      <th>V_Return</th>\n",
       "    </tr>\n",
       "    <tr>\n",
       "      <th>Datetime</th>\n",
       "      <th></th>\n",
       "      <th></th>\n",
       "    </tr>\n",
       "  </thead>\n",
       "  <tbody>\n",
       "    <tr>\n",
       "      <th>2025-01-23 14:31:00+00:00</th>\n",
       "      <td>0.002371</td>\n",
       "      <td>0.000278</td>\n",
       "    </tr>\n",
       "    <tr>\n",
       "      <th>2025-01-23 14:32:00+00:00</th>\n",
       "      <td>0.000500</td>\n",
       "      <td>0.001745</td>\n",
       "    </tr>\n",
       "    <tr>\n",
       "      <th>2025-01-23 14:33:00+00:00</th>\n",
       "      <td>0.000739</td>\n",
       "      <td>0.000632</td>\n",
       "    </tr>\n",
       "    <tr>\n",
       "      <th>2025-01-23 14:34:00+00:00</th>\n",
       "      <td>0.000353</td>\n",
       "      <td>0.001063</td>\n",
       "    </tr>\n",
       "    <tr>\n",
       "      <th>2025-01-23 14:35:00+00:00</th>\n",
       "      <td>0.000959</td>\n",
       "      <td>0.001308</td>\n",
       "    </tr>\n",
       "    <tr>\n",
       "      <th>...</th>\n",
       "      <td>...</td>\n",
       "      <td>...</td>\n",
       "    </tr>\n",
       "    <tr>\n",
       "      <th>2025-01-23 20:55:00+00:00</th>\n",
       "      <td>0.000639</td>\n",
       "      <td>0.000931</td>\n",
       "    </tr>\n",
       "    <tr>\n",
       "      <th>2025-01-23 20:56:00+00:00</th>\n",
       "      <td>0.000515</td>\n",
       "      <td>0.001022</td>\n",
       "    </tr>\n",
       "    <tr>\n",
       "      <th>2025-01-23 20:57:00+00:00</th>\n",
       "      <td>-0.000094</td>\n",
       "      <td>-0.000091</td>\n",
       "    </tr>\n",
       "    <tr>\n",
       "      <th>2025-01-23 20:58:00+00:00</th>\n",
       "      <td>-0.000178</td>\n",
       "      <td>0.000091</td>\n",
       "    </tr>\n",
       "    <tr>\n",
       "      <th>2025-01-23 20:59:00+00:00</th>\n",
       "      <td>0.000852</td>\n",
       "      <td>-0.000091</td>\n",
       "    </tr>\n",
       "  </tbody>\n",
       "</table>\n",
       "<p>388 rows × 2 columns</p>\n",
       "</div>"
      ],
      "text/plain": [
       "                           MA_Return  V_Return\n",
       "Datetime                                      \n",
       "2025-01-23 14:31:00+00:00   0.002371  0.000278\n",
       "2025-01-23 14:32:00+00:00   0.000500  0.001745\n",
       "2025-01-23 14:33:00+00:00   0.000739  0.000632\n",
       "2025-01-23 14:34:00+00:00   0.000353  0.001063\n",
       "2025-01-23 14:35:00+00:00   0.000959  0.001308\n",
       "...                              ...       ...\n",
       "2025-01-23 20:55:00+00:00   0.000639  0.000931\n",
       "2025-01-23 20:56:00+00:00   0.000515  0.001022\n",
       "2025-01-23 20:57:00+00:00  -0.000094 -0.000091\n",
       "2025-01-23 20:58:00+00:00  -0.000178  0.000091\n",
       "2025-01-23 20:59:00+00:00   0.000852 -0.000091\n",
       "\n",
       "[388 rows x 2 columns]"
      ]
     },
     "execution_count": 63,
     "metadata": {},
     "output_type": "execute_result"
    }
   ],
   "source": [
    "combined_df_returns"
   ]
  },
  {
   "cell_type": "code",
   "execution_count": 84,
   "id": "571a5802-bcee-4fe6-8cac-f62ba8417fdc",
   "metadata": {},
   "outputs": [],
   "source": [
    "# Calculate correlation (ρ)\n",
    "rho = combined_df_returns['MA_Return'].corr(combined_df_returns['V_Return'])"
   ]
  },
  {
   "cell_type": "code",
   "execution_count": 86,
   "id": "4173f915-6464-4e71-8e86-1fce1a4995cf",
   "metadata": {},
   "outputs": [
    {
     "data": {
      "text/plain": [
       "0.5598723987931293"
      ]
     },
     "execution_count": 86,
     "metadata": {},
     "output_type": "execute_result"
    }
   ],
   "source": [
    "rho"
   ]
  },
  {
   "cell_type": "code",
   "execution_count": 90,
   "id": "f4d4b666-6714-447f-ad1b-7f8b941bec10",
   "metadata": {},
   "outputs": [],
   "source": [
    "delta = 1"
   ]
  },
  {
   "cell_type": "code",
   "execution_count": 92,
   "id": "9f1b970d-d37a-4cb0-b46f-57b963cb84ef",
   "metadata": {},
   "outputs": [],
   "source": [
    "spread = combined_df.MA_Close - delta * combined_df.V_Close"
   ]
  },
  {
   "cell_type": "code",
   "execution_count": 94,
   "id": "992e66fd-a3f1-4025-bebf-abb2ca18b57c",
   "metadata": {},
   "outputs": [
    {
     "data": {
      "text/plain": [
       "Datetime\n",
       "2025-01-23 14:30:00+00:00    205.519989\n",
       "2025-01-23 14:31:00+00:00    206.684998\n",
       "2025-01-23 14:32:00+00:00    206.385010\n",
       "2025-01-23 14:33:00+00:00    206.572510\n",
       "2025-01-23 14:34:00+00:00    206.415192\n",
       "                                ...    \n",
       "2025-01-23 20:55:00+00:00    205.829987\n",
       "2025-01-23 20:56:00+00:00    205.770020\n",
       "2025-01-23 20:57:00+00:00    205.749969\n",
       "2025-01-23 20:58:00+00:00    205.625000\n",
       "2025-01-23 20:59:00+00:00    206.110016\n",
       "Length: 389, dtype: float64"
      ]
     },
     "execution_count": 94,
     "metadata": {},
     "output_type": "execute_result"
    }
   ],
   "source": [
    "spread"
   ]
  },
  {
   "cell_type": "code",
   "execution_count": 98,
   "id": "552c31d4-069f-405f-8a41-9c848b5ae556",
   "metadata": {},
   "outputs": [],
   "source": [
    "# Mu = d1_mean_spread\n",
    "d1_mean_spread = np.mean(spread)"
   ]
  },
  {
   "cell_type": "code",
   "execution_count": 100,
   "id": "59788aa8-b225-4ad8-94d1-8c3e2b71c8a7",
   "metadata": {},
   "outputs": [
    {
     "data": {
      "text/plain": [
       "205.50744597525707"
      ]
     },
     "execution_count": 100,
     "metadata": {},
     "output_type": "execute_result"
    }
   ],
   "source": [
    "d1_mean_spread"
   ]
  },
  {
   "cell_type": "code",
   "execution_count": 102,
   "id": "3f2781bb-d0db-4e92-a5a0-47c5d41ab225",
   "metadata": {},
   "outputs": [],
   "source": [
    "current_spread = combined_df['MA_Close'].iloc[-1] - delta * combined_df['V_Close'].iloc[-1]"
   ]
  },
  {
   "cell_type": "code",
   "execution_count": 104,
   "id": "13d242b9-8c06-4b4a-93f2-485f326fe651",
   "metadata": {},
   "outputs": [
    {
     "data": {
      "text/plain": [
       "206.11001586914062"
      ]
     },
     "execution_count": 104,
     "metadata": {},
     "output_type": "execute_result"
    }
   ],
   "source": [
    "current_spread"
   ]
  },
  {
   "cell_type": "code",
   "execution_count": 106,
   "id": "e616750e-8a52-4c4a-aaa0-34876428562f",
   "metadata": {},
   "outputs": [
    {
     "data": {
      "text/plain": [
       "-0.6025698938835546"
      ]
     },
     "execution_count": 106,
     "metadata": {},
     "output_type": "execute_result"
    }
   ],
   "source": [
    "d1_mean_spread - current_spread"
   ]
  },
  {
   "cell_type": "code",
   "execution_count": 112,
   "id": "5062bf62-45fe-4b40-84d0-7ecee05ec136",
   "metadata": {},
   "outputs": [],
   "source": [
    "mu = d1_mean_spread"
   ]
  },
  {
   "cell_type": "code",
   "execution_count": 114,
   "id": "10affa5b-3512-4738-9b14-99fd3ad3e4ca",
   "metadata": {},
   "outputs": [
    {
     "data": {
      "text/plain": [
       "205.50744597525707"
      ]
     },
     "execution_count": 114,
     "metadata": {},
     "output_type": "execute_result"
    }
   ],
   "source": [
    "mu"
   ]
  },
  {
   "cell_type": "code",
   "execution_count": 120,
   "id": "fa24f053-89e2-47db-a4d1-89b718f91b41",
   "metadata": {},
   "outputs": [],
   "source": [
    "# Sigma = standard_deviation_spread\n",
    "standard_deviation_spread = np.std(spread)"
   ]
  },
  {
   "cell_type": "code",
   "execution_count": 122,
   "id": "dfdec6fa-515b-4dce-8c03-58b7f1fb6700",
   "metadata": {},
   "outputs": [
    {
     "data": {
      "text/plain": [
       "0.5452234987049952"
      ]
     },
     "execution_count": 122,
     "metadata": {},
     "output_type": "execute_result"
    }
   ],
   "source": [
    "standard_deviation_spread"
   ]
  },
  {
   "cell_type": "code",
   "execution_count": 128,
   "id": "e528a954-d678-45c0-9c03-64773ba4d13a",
   "metadata": {},
   "outputs": [],
   "source": [
    "sigma = standard_deviation_spread"
   ]
  },
  {
   "cell_type": "code",
   "execution_count": 130,
   "id": "efde6f11-8c82-4f16-8608-58503a9cc9ec",
   "metadata": {
    "scrolled": true
   },
   "outputs": [
    {
     "data": {
      "text/plain": [
       "<matplotlib.lines.Line2D at 0x176fe6f60>"
      ]
     },
     "execution_count": 130,
     "metadata": {},
     "output_type": "execute_result"
    },
    {
     "data": {
      "image/png": "[encoded data removed]",
      "text/plain": [
       "<Figure size 640x480 with 1 Axes>"
      ]
     },
     "metadata": {},
     "output_type": "display_data"
    }
   ],
   "source": [
    "spread.plot()\n",
    "plt.axhline(mu + sigma, color='r', linestyle='--', label=f\"𝜇 + 𝜎 = {mu + sigma:.3f}\")\n",
    "plt.axhline(mu - sigma, color='g', linestyle='--', label=f\"𝜇 - 𝜎 = {mu - sigma:.3f}\")"
   ]
  },
  {
   "cell_type": "code",
   "execution_count": 136,
   "id": "757134e1-5a7b-462a-bb90-a1548c6af38f",
   "metadata": {},
   "outputs": [],
   "source": [
    "import statsmodels.api as sm"
   ]
  },
  {
   "cell_type": "code",
   "execution_count": 137,
   "id": "d1ec6bcb-035a-4ad0-b48e-733e6efc18c9",
   "metadata": {},
   "outputs": [],
   "source": [
    "# Run OLS regression to estimate the cointegration relationship\n",
    "X = sm.add_constant(p2)  \n",
    "model = sm.OLS(p1, X)\n",
    "results = model.fit()"
   ]
  },
  {
   "cell_type": "code",
   "execution_count": 140,
   "id": "0da5a19d-4f90-4fb1-acfb-39c79292cfac",
   "metadata": {},
   "outputs": [
    {
     "name": "stderr",
     "output_type": "stream",
     "text": [
      "/var/folders/xc/tw7x6_8n0z30jr8_7fy3crgc0000gn/T/ipykernel_19254/387075550.py:1: FutureWarning: Series.__getitem__ treating keys as positions is deprecated. In a future version, integer keys will always be treated as labels (consistent with DataFrame behavior). To access a value by position, use `ser.iloc[pos]`\n",
      "  beta = results.params[1]\n"
     ]
    }
   ],
   "source": [
    "beta = results.params[1]"
   ]
  },
  {
   "cell_type": "code",
   "execution_count": 144,
   "id": "00dfa8d9-6d3e-4f67-b748-9822d147d012",
   "metadata": {},
   "outputs": [],
   "source": [
    "# Calculate the cointegration residual (Z)\n",
    "Z = spread = combined_df.MA_Close - beta * combined_df.V_Close"
   ]
  },
  {
   "cell_type": "code",
   "execution_count": 148,
   "id": "91e74a3d-7b24-4724-883e-617464ba79b8",
   "metadata": {},
   "outputs": [
    {
     "data": {
      "text/plain": [
       "<Axes: xlabel='Datetime'>"
      ]
     },
     "execution_count": 148,
     "metadata": {},
     "output_type": "execute_result"
    },
    {
     "data": {
      "image/png": "[encoded data removed]",
      "text/plain": [
       "<Figure size 640x480 with 1 Axes>"
      ]
     },
     "metadata": {},
     "output_type": "display_data"
    }
   ],
   "source": [
    "Z.plot()"
   ]
  },
  {
   "cell_type": "code",
   "execution_count": null,
   "id": "24b7a6e5-e8c6-4bbc-8740-ffc76de49007",
   "metadata": {},
   "outputs": [],
   "source": []
  },
  {
   "cell_type": "code",
   "execution_count": null,
   "id": "20b936b9-97a6-4921-bb92-addad6d4c601",
   "metadata": {},
   "outputs": [],
   "source": []
  },
  {
   "cell_type": "code",
   "execution_count": null,
   "id": "68b437ad-49f1-4027-9a76-ede8c8461fec",
   "metadata": {},
   "outputs": [],
   "source": []
  },
  {
   "cell_type": "code",
   "execution_count": null,
   "id": "70980e2f-af03-45f1-89b7-7c030626d8fe",
   "metadata": {},
   "outputs": [],
   "source": []
  },
  {
   "cell_type": "code",
   "execution_count": 33,
   "id": "6a9f8371-dca6-4f6f-bd7f-6853c5ab2cbd",
   "metadata": {},
   "outputs": [],
   "source": [
    "# Calculate covariance and variance\n",
    "covariance = data['MA_Returns'].cov(data['V_Returns'])  # Covariance of MA and V returns\n",
    "variance = data['V_Returns'].var()  # Variance of V's returns"
   ]
  },
  {
   "cell_type": "code",
   "execution_count": null,
   "id": "a3052ad1-0344-4aa9-aa80-ea11d12cdac5",
   "metadata": {},
   "outputs": [],
   "source": []
  },
  {
   "cell_type": "code",
   "execution_count": 35,
   "id": "61e9b0af-432b-487e-8aa0-2e2be619db32",
   "metadata": {},
   "outputs": [],
   "source": [
    "beta = covariance / variance"
   ]
  },
  {
   "cell_type": "code",
   "execution_count": 37,
   "id": "4809e547-652e-4e06-b722-459502dc74d2",
   "metadata": {},
   "outputs": [
    {
     "data": {
      "text/plain": [
       "0.5737154692050515"
      ]
     },
     "execution_count": 37,
     "metadata": {},
     "output_type": "execute_result"
    }
   ],
   "source": [
    "beta"
   ]
  },
  {
   "cell_type": "code",
   "execution_count": null,
   "id": "0d3680a5-09de-4c4c-a100-4f91edbae839",
   "metadata": {},
   "outputs": [],
   "source": []
  }
 ],
 "metadata": {
  "kernelspec": {
   "display_name": "Python [conda env:base] *",
   "language": "python",
   "name": "conda-base-py"
  },
  "language_info": {
   "codemirror_mode": {
    "name": "ipython",
    "version": 3
   },
   "file_extension": ".py",
   "mimetype": "text/x-python",
   "name": "python",
   "nbconvert_exporter": "python",
   "pygments_lexer": "ipython3",
   "version": "3.12.7"
  }
 },
 "nbformat": 4,
 "nbformat_minor": 5
}
