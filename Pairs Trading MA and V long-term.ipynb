{
 "cells": [
  {
   "cell_type": "code",
   "execution_count": 1,
   "id": "d0fc18d7-0efa-4ce5-8a6c-bae750d4cee0",
   "metadata": {},
   "outputs": [],
   "source": [
    "import numpy as np\n",
    "import pandas as pd\n",
    "import yfinance as yf\n",
    "import matplotlib.pyplot as plt\n",
    "from statsmodels.tsa.stattools import coint\n",
    "from statsmodels.tsa.stattools import adfuller\n",
    "import statsmodels.api as sm"
   ]
  },
  {
   "cell_type": "code",
   "execution_count": 2,
   "id": "e03434fe-cded-49e6-865c-3c022be9c74c",
   "metadata": {},
   "outputs": [
    {
     "name": "stderr",
     "output_type": "stream",
     "text": [
      "[*********************100%***********************]  1 of 1 completed\n",
      "[*********************100%***********************]  1 of 1 completed\n"
     ]
    }
   ],
   "source": [
    "df_ma_5_days = yf.download('MA', start ='2015-01-01')\n",
    "df_v_5_days = yf.download('V', start ='2015-01-01')"
   ]
  },
  {
   "cell_type": "code",
   "execution_count": 4,
   "id": "23f3d0c4-ceb8-4bb3-a6c7-6046d68f0c54",
   "metadata": {},
   "outputs": [],
   "source": [
    "df_ma_5_days.columns =['Close', 'High', 'Low', 'Open', 'Volume']\n",
    "df_v_5_days.columns =['Close', 'High', 'Low', 'Open', 'Volume']"
   ]
  },
  {
   "cell_type": "code",
   "execution_count": 7,
   "id": "a77e97e0-73da-43d5-8d18-a366e11272fc",
   "metadata": {},
   "outputs": [],
   "source": [
    "combined_df = pd.concat([df_ma_5_days[['Open', 'Close']], df_v_5_days[['Open', 'Close']]], axis=1, keys=['MA', 'V'])\n",
    "combined_df = combined_df.ffill()\n",
    "combined_df.columns = ['MA_Open', 'MA_Close', 'V_Open', 'V_Close']"
   ]
  },
  {
   "cell_type": "code",
   "execution_count": 9,
   "id": "00c1ae99-d4f8-48d5-be71-2dbc2bc63646",
   "metadata": {},
   "outputs": [
    {
     "data": {
      "text/html": [
       "<div>\n",
       "<style scoped>\n",
       "    .dataframe tbody tr th:only-of-type {\n",
       "        vertical-align: middle;\n",
       "    }\n",
       "\n",
       "    .dataframe tbody tr th {\n",
       "        vertical-align: top;\n",
       "    }\n",
       "\n",
       "    .dataframe thead th {\n",
       "        text-align: right;\n",
       "    }\n",
       "</style>\n",
       "<table border=\"1\" class=\"dataframe\">\n",
       "  <thead>\n",
       "    <tr style=\"text-align: right;\">\n",
       "      <th></th>\n",
       "      <th>MA_Open</th>\n",
       "      <th>MA_Close</th>\n",
       "      <th>V_Open</th>\n",
       "      <th>V_Close</th>\n",
       "    </tr>\n",
       "    <tr>\n",
       "      <th>Date</th>\n",
       "      <th></th>\n",
       "      <th></th>\n",
       "      <th></th>\n",
       "      <th></th>\n",
       "    </tr>\n",
       "  </thead>\n",
       "  <tbody>\n",
       "    <tr>\n",
       "      <th>2015-01-02</th>\n",
       "      <td>81.386285</td>\n",
       "      <td>80.447357</td>\n",
       "      <td>61.394389</td>\n",
       "      <td>61.776672</td>\n",
       "    </tr>\n",
       "    <tr>\n",
       "      <th>2015-01-05</th>\n",
       "      <td>80.081179</td>\n",
       "      <td>78.184540</td>\n",
       "      <td>61.419993</td>\n",
       "      <td>60.412998</td>\n",
       "    </tr>\n",
       "    <tr>\n",
       "      <th>2015-01-06</th>\n",
       "      <td>78.550737</td>\n",
       "      <td>78.015541</td>\n",
       "      <td>60.557537</td>\n",
       "      <td>60.023731</td>\n",
       "    </tr>\n",
       "    <tr>\n",
       "      <th>2015-01-07</th>\n",
       "      <td>79.116219</td>\n",
       "      <td>79.229111</td>\n",
       "      <td>60.242858</td>\n",
       "      <td>60.827946</td>\n",
       "    </tr>\n",
       "    <tr>\n",
       "      <th>2015-01-08</th>\n",
       "      <td>80.141601</td>\n",
       "      <td>80.461449</td>\n",
       "      <td>61.352406</td>\n",
       "      <td>61.643784</td>\n",
       "    </tr>\n",
       "    <tr>\n",
       "      <th>...</th>\n",
       "      <td>...</td>\n",
       "      <td>...</td>\n",
       "      <td>...</td>\n",
       "      <td>...</td>\n",
       "    </tr>\n",
       "    <tr>\n",
       "      <th>2025-01-21</th>\n",
       "      <td>527.659973</td>\n",
       "      <td>528.059998</td>\n",
       "      <td>320.309998</td>\n",
       "      <td>323.630005</td>\n",
       "    </tr>\n",
       "    <tr>\n",
       "      <th>2025-01-22</th>\n",
       "      <td>528.000000</td>\n",
       "      <td>527.179993</td>\n",
       "      <td>324.769989</td>\n",
       "      <td>323.559998</td>\n",
       "    </tr>\n",
       "    <tr>\n",
       "      <th>2025-01-23</th>\n",
       "      <td>529.049988</td>\n",
       "      <td>534.219971</td>\n",
       "      <td>323.760010</td>\n",
       "      <td>328.209991</td>\n",
       "    </tr>\n",
       "    <tr>\n",
       "      <th>2025-01-24</th>\n",
       "      <td>532.989990</td>\n",
       "      <td>533.489990</td>\n",
       "      <td>328.019989</td>\n",
       "      <td>330.200012</td>\n",
       "    </tr>\n",
       "    <tr>\n",
       "      <th>2025-01-27</th>\n",
       "      <td>533.580017</td>\n",
       "      <td>547.640015</td>\n",
       "      <td>330.000000</td>\n",
       "      <td>334.540009</td>\n",
       "    </tr>\n",
       "  </tbody>\n",
       "</table>\n",
       "<p>2532 rows × 4 columns</p>\n",
       "</div>"
      ],
      "text/plain": [
       "               MA_Open    MA_Close      V_Open     V_Close\n",
       "Date                                                      \n",
       "2015-01-02   81.386285   80.447357   61.394389   61.776672\n",
       "2015-01-05   80.081179   78.184540   61.419993   60.412998\n",
       "2015-01-06   78.550737   78.015541   60.557537   60.023731\n",
       "2015-01-07   79.116219   79.229111   60.242858   60.827946\n",
       "2015-01-08   80.141601   80.461449   61.352406   61.643784\n",
       "...                ...         ...         ...         ...\n",
       "2025-01-21  527.659973  528.059998  320.309998  323.630005\n",
       "2025-01-22  528.000000  527.179993  324.769989  323.559998\n",
       "2025-01-23  529.049988  534.219971  323.760010  328.209991\n",
       "2025-01-24  532.989990  533.489990  328.019989  330.200012\n",
       "2025-01-27  533.580017  547.640015  330.000000  334.540009\n",
       "\n",
       "[2532 rows x 4 columns]"
      ]
     },
     "execution_count": 9,
     "metadata": {},
     "output_type": "execute_result"
    }
   ],
   "source": [
    "combined_df"
   ]
  },
  {
   "cell_type": "code",
   "execution_count": 11,
   "id": "80ec7570-4320-435f-9cbc-cbc721a15a94",
   "metadata": {},
   "outputs": [],
   "source": [
    "p1 = combined_df['MA_Close']\n",
    "p2 = combined_df['V_Close']"
   ]
  },
  {
   "cell_type": "code",
   "execution_count": 13,
   "id": "1fda0a6a-5b7b-4dc4-bda6-c275e1c241b4",
   "metadata": {},
   "outputs": [],
   "source": [
    "score, p_value, _ = coint(p1,p2)"
   ]
  },
  {
   "cell_type": "code",
   "execution_count": 15,
   "id": "4369b546-e227-4008-ba99-108b41a75d65",
   "metadata": {},
   "outputs": [
    {
     "data": {
      "text/plain": [
       "0.00012374183240625598"
      ]
     },
     "execution_count": 15,
     "metadata": {},
     "output_type": "execute_result"
    }
   ],
   "source": [
    "p_value"
   ]
  },
  {
   "cell_type": "code",
   "execution_count": 19,
   "id": "2405311e-be11-4682-bbe8-a0d0b519fb27",
   "metadata": {},
   "outputs": [],
   "source": [
    "# Calculate delta for a 5 day period:"
   ]
  },
  {
   "cell_type": "code",
   "execution_count": 17,
   "id": "faa43695-4b2b-4760-8e8e-fb5d8afb73cf",
   "metadata": {},
   "outputs": [
    {
     "data": {
      "text/plain": [
       "Text(0.5, 1.0, 'Spread between MA and V')"
      ]
     },
     "execution_count": 17,
     "metadata": {},
     "output_type": "execute_result"
    },
    {
     "data": {
      "image/png": "[encoded data removed]",
      "text/plain": [
       "<Figure size 800x480 with 1 Axes>"
      ]
     },
     "metadata": {},
     "output_type": "display_data"
    }
   ],
   "source": [
    "plt.figure(figsize=(10, 6), dpi=80)\n",
    "plt.plot(combined_df.MA_Close - combined_df.V_Close, label = 'Spread (MA and V)')\n",
    "plt.legend()\n",
    "plt.title(\"Spread between MA and V\")"
   ]
  },
  {
   "cell_type": "code",
   "execution_count": 21,
   "id": "82a78461-2de0-4bdd-a568-54436054f91f",
   "metadata": {},
   "outputs": [],
   "source": [
    "# Add a constant to the independent variable (V)\n",
    "X = sm.add_constant(p2)"
   ]
  },
  {
   "cell_type": "code",
   "execution_count": 23,
   "id": "fc88c64d-b7b8-4526-b0eb-8cc6d93e6809",
   "metadata": {},
   "outputs": [],
   "source": [
    "model = sm.OLS(p1, X)\n",
    "results = model.fit()"
   ]
  },
  {
   "cell_type": "code",
   "execution_count": 25,
   "id": "b49c33d3-ce18-4594-a9bd-93307347c125",
   "metadata": {},
   "outputs": [
    {
     "name": "stderr",
     "output_type": "stream",
     "text": [
      "/var/folders/xc/tw7x6_8n0z30jr8_7fy3crgc0000gn/T/ipykernel_23361/3723922462.py:1: FutureWarning: Series.__getitem__ treating keys as positions is deprecated. In a future version, integer keys will always be treated as labels (consistent with DataFrame behavior). To access a value by position, use `ser.iloc[pos]`\n",
      "  delta = results.params[1]\n"
     ]
    }
   ],
   "source": [
    "delta = results.params[1]"
   ]
  },
  {
   "cell_type": "code",
   "execution_count": 27,
   "id": "a22b5755-86bb-4916-90b7-c258d129562c",
   "metadata": {},
   "outputs": [
    {
     "data": {
      "text/plain": [
       "1.8285084108735965"
      ]
     },
     "execution_count": 27,
     "metadata": {},
     "output_type": "execute_result"
    }
   ],
   "source": [
    "delta"
   ]
  },
  {
   "cell_type": "code",
   "execution_count": 29,
   "id": "715aca71-f9e2-4097-8d28-b2413e837217",
   "metadata": {},
   "outputs": [],
   "source": [
    "spread = combined_df.MA_Close - delta * combined_df.V_Close"
   ]
  },
  {
   "cell_type": "code",
   "execution_count": 31,
   "id": "5b621fd1-eeb5-4e1b-a4c0-4961e74b3bcf",
   "metadata": {},
   "outputs": [],
   "source": [
    "historical_mean_spread = np.mean(spread)"
   ]
  },
  {
   "cell_type": "code",
   "execution_count": 33,
   "id": "febaf7e8-26ab-4d33-ab90-b64fcc2df569",
   "metadata": {},
   "outputs": [
    {
     "data": {
      "text/plain": [
       "-42.15113347897334"
      ]
     },
     "execution_count": 33,
     "metadata": {},
     "output_type": "execute_result"
    }
   ],
   "source": [
    "historical_mean_spread"
   ]
  },
  {
   "cell_type": "code",
   "execution_count": 35,
   "id": "73339547-32ce-44cc-bcaf-48a885d10f9f",
   "metadata": {},
   "outputs": [],
   "source": [
    "current_spread = combined_df['MA_Close'].iloc[-1] - delta * combined_df['V_Close'].iloc[-1]"
   ]
  },
  {
   "cell_type": "code",
   "execution_count": 37,
   "id": "60331f2a-8207-4098-b047-7770dae80bf8",
   "metadata": {},
   "outputs": [
    {
     "data": {
      "text/plain": [
       "-70.28350935674587"
      ]
     },
     "execution_count": 37,
     "metadata": {},
     "output_type": "execute_result"
    }
   ],
   "source": [
    "current_spread"
   ]
  },
  {
   "cell_type": "code",
   "execution_count": 39,
   "id": "05205361-8d00-4c5f-95a8-066ec51fbfb1",
   "metadata": {},
   "outputs": [
    {
     "data": {
      "text/plain": [
       "28.132375877772525"
      ]
     },
     "execution_count": 39,
     "metadata": {},
     "output_type": "execute_result"
    }
   ],
   "source": [
    "historical_mean_spread - current_spread"
   ]
  },
  {
   "cell_type": "code",
   "execution_count": 41,
   "id": "f0bbbdea-24c0-40b9-b9bb-1e9482808b76",
   "metadata": {},
   "outputs": [
    {
     "data": {
      "text/plain": [
       "Date\n",
       "2015-01-02   -32.511744\n",
       "2015-01-05   -32.281171\n",
       "2015-01-06   -31.738379\n",
       "2015-01-07   -31.995289\n",
       "2015-01-08   -32.254757\n",
       "                ...    \n",
       "2025-01-17   -59.727837\n",
       "2025-01-21   -63.700188\n",
       "2025-01-22   -64.452184\n",
       "2025-01-23   -65.914759\n",
       "2025-01-24   -70.283509\n",
       "Length: 2531, dtype: float64"
      ]
     },
     "execution_count": 41,
     "metadata": {},
     "output_type": "execute_result"
    }
   ],
   "source": [
    "spread"
   ]
  },
  {
   "cell_type": "code",
   "execution_count": 43,
   "id": "55fa4fdd-0572-46cf-be1e-1247c1c6534d",
   "metadata": {},
   "outputs": [],
   "source": [
    "# Mu = d1_mean_spread\n",
    "d1_mean_spread = np.mean(spread)"
   ]
  },
  {
   "cell_type": "code",
   "execution_count": 45,
   "id": "f326ce7e-0c4a-4c34-a42b-36e6e94bcf62",
   "metadata": {},
   "outputs": [],
   "source": [
    "current_spread = combined_df['MA_Close'].iloc[-1] - delta * combined_df['V_Close'].iloc[-1]"
   ]
  },
  {
   "cell_type": "code",
   "execution_count": 47,
   "id": "ae621cb0-ed84-462d-a45f-eb4021acda07",
   "metadata": {},
   "outputs": [
    {
     "data": {
      "text/plain": [
       "28.132375877772525"
      ]
     },
     "execution_count": 47,
     "metadata": {},
     "output_type": "execute_result"
    }
   ],
   "source": [
    "d1_mean_spread - current_spread"
   ]
  },
  {
   "cell_type": "code",
   "execution_count": 49,
   "id": "90ae26ab-f283-4772-ab5a-ef60f6ae141e",
   "metadata": {},
   "outputs": [],
   "source": [
    "mu = d1_mean_spread"
   ]
  },
  {
   "cell_type": "code",
   "execution_count": 51,
   "id": "c76c909e-2299-47e1-9b04-ec8c05289a14",
   "metadata": {},
   "outputs": [],
   "source": [
    "# Sigma = standard_deviation_spread\n",
    "standard_deviation_spread = np.std(spread)"
   ]
  },
  {
   "cell_type": "code",
   "execution_count": 53,
   "id": "f706bfd8-f9a7-49b2-bef5-f6d2f7f9018e",
   "metadata": {},
   "outputs": [],
   "source": [
    "sigma = standard_deviation_spread"
   ]
  },
  {
   "cell_type": "code",
   "execution_count": 61,
   "id": "7e315dfa-8de3-4b59-ae76-c30baf75fd14",
   "metadata": {},
   "outputs": [
    {
     "data": {
      "text/plain": [
       "9.448496003819193"
      ]
     },
     "execution_count": 61,
     "metadata": {},
     "output_type": "execute_result"
    }
   ],
   "source": [
    "sigma"
   ]
  },
  {
   "cell_type": "code",
   "execution_count": 57,
   "id": "6949f98c-3309-41fd-9627-be7ee95fc214",
   "metadata": {},
   "outputs": [
    {
     "data": {
      "text/plain": [
       "<matplotlib.lines.Line2D at 0x16ae11190>"
      ]
     },
     "execution_count": 57,
     "metadata": {},
     "output_type": "execute_result"
    },
    {
     "data": {
      "image/png": "[encoded data removed]",
      "text/plain": [
       "<Figure size 640x480 with 1 Axes>"
      ]
     },
     "metadata": {},
     "output_type": "display_data"
    }
   ],
   "source": [
    "spread.plot()\n",
    "plt.axhline(mu + sigma, color='g', linestyle='--', label=f\"𝜇 + 𝜎 = {mu + sigma:.3f}\")\n",
    "plt.axhline(mu - sigma, color='r', linestyle='--', label=f\"𝜇 - 𝜎 = {mu - sigma:.3f}\")"
   ]
  },
  {
   "cell_type": "code",
   "execution_count": 62,
   "id": "f8fbf940-ef97-42a2-9755-751c8f89f0c9",
   "metadata": {},
   "outputs": [],
   "source": [
    "# Go long MA, short V"
   ]
  },
  {
   "cell_type": "code",
   "execution_count": null,
   "id": "aa7ff946-3119-4bfb-9223-059ea47b8e01",
   "metadata": {},
   "outputs": [],
   "source": []
  }
 ],
 "metadata": {
  "kernelspec": {
   "display_name": "Python [conda env:base] *",
   "language": "python",
   "name": "conda-base-py"
  },
  "language_info": {
   "codemirror_mode": {
    "name": "ipython",
    "version": 3
   },
   "file_extension": ".py",
   "mimetype": "text/x-python",
   "name": "python",
   "nbconvert_exporter": "python",
   "pygments_lexer": "ipython3",
   "version": "3.12.7"
  }
 },
 "nbformat": 4,
 "nbformat_minor": 5
}
